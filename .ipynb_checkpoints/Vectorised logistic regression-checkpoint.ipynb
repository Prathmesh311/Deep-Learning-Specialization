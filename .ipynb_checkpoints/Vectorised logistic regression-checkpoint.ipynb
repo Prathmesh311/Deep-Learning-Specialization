{
 "cells": [
  {
   "cell_type": "code",
   "execution_count": 7,
   "metadata": {},
   "outputs": [
    {
     "name": "stdout",
     "output_type": "stream",
     "text": [
      "249961.1979118601\n",
      "Vectorised version:1.001119613647461ms\n",
      "249961.1979118651\n",
      "For loop:556.922197341919ms\n"
     ]
    }
   ],
   "source": [
    "import numpy as np\n",
    "import time\n",
    "\n",
    "a=np.random.rand(1000000)\n",
    "b=np.random.rand(1000000)\n",
    "\n",
    "tic=time.time()                                 #verctorised  implementation is faster as compared to for loop\n",
    "c= np.dot(a,b)\n",
    "toc=time.time()\n",
    "\n",
    "print(c)\n",
    "print(\"Vectorised version:\" + str(1000*(toc-tic)) + \"ms\")\n",
    "\n",
    "c=0\n",
    "tic=time.time()\n",
    "for i in range(1000000):\n",
    "    c += a[i]*b[i]\n",
    "toc=time.time()\n",
    "\n",
    "print(c)\n",
    "print(\"For loop:\" + str(1000*(toc-tic)) + \"ms\")"
   ]
  },
  {
   "cell_type": "code",
   "execution_count": 13,
   "metadata": {},
   "outputs": [
    {
     "name": "stdout",
     "output_type": "stream",
     "text": [
      "[0.11918588 0.08423119 0.65747496 ... 0.0282553  0.4013328  0.91688166]\n",
      "[1.12657931 1.08788037 1.92991307 ... 1.02865826 1.49381433 2.50147776]\n",
      "[0.11918588 0.08423119 0.65747496 ... 0.0282553  0.4013328  0.91688166]\n"
     ]
    }
   ],
   "source": [
    "x=np.exp(a)              #exponential function\n",
    "y=np.abs(a)              #actual value\n",
    "print(a)\n",
    "print(x)\n",
    "print(y)\n"
   ]
  },
  {
   "cell_type": "code",
   "execution_count": null,
   "metadata": {},
   "outputs": [],
   "source": []
  }
 ],
 "metadata": {
  "kernelspec": {
   "display_name": "Python 3",
   "language": "python",
   "name": "python3"
  },
  "language_info": {
   "codemirror_mode": {
    "name": "ipython",
    "version": 3
   },
   "file_extension": ".py",
   "mimetype": "text/x-python",
   "name": "python",
   "nbconvert_exporter": "python",
   "pygments_lexer": "ipython3",
   "version": "3.7.6"
  }
 },
 "nbformat": 4,
 "nbformat_minor": 4
}
